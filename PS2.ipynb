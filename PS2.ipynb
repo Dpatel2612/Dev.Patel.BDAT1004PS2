{
  "cells": [
    {
      "cell_type": "markdown",
      "metadata": {
        "id": "EBHx4-NUKSuM"
      },
      "source": [
        "## Question 1\n",
        "\n",
        "Consider the following Python module: </br>\n",
        "\n",
        "a = 0 </br>\n",
        "\n",
        "def b(): </br>\n",
        "    global a </br>\n",
        "    a = c(a) </br>\n",
        "\n",
        "def c(a): </br>\n",
        "    return a + 2 </br>\n",
        "    \n",
        "After importing the module into the interpreter, you execute: </br>\n",
        "\n",
        "b() </br>\n",
        "\n",
        "b() </br>\n",
        "\n",
        "b() </br>\n",
        "\n",
        "a   </br>\n",
        "\n",
        "?   </br>\n",
        "\n",
        " What value is displayed when the last expression (a) is evaluated? Explain your answer by indicating what happens in every executed statement.\n",
        "    \n",
        "    "
      ]
    },
    {
      "cell_type": "code",
      "execution_count": 1,
      "metadata": {
        "colab": {
          "base_uri": "https://localhost:8080/"
        },
        "id": "TMP7xwprKSuN",
        "outputId": "20db96df-9cac-4087-8c70-976f5c0514a1"
      },
      "outputs": [
        {
          "output_type": "stream",
          "name": "stdout",
          "text": [
            "2\n",
            "4\n",
            "6\n",
            "6\n"
          ]
        }
      ],
      "source": [
        "a=0\n",
        "\n",
        "def b():\n",
        "    global a\n",
        "    a = c(a)\n",
        "    return a\n",
        "\n",
        "def c(a):\n",
        "    return a + 2\n",
        "\n",
        "print(b())\n",
        "print(b())\n",
        "print(b())\n",
        "print(a)"
      ]
    },
    {
      "cell_type": "markdown",
      "metadata": {
        "id": "keBqgyeHKSuP"
      },
      "source": [
        "- During the first call to b(), the global variable a, which is 0, is utilized and passed to c(), resulting in the value of a being updated to 2, thus b() returns 2. </br>\n",
        "- In the second invocation of b(), the same procedure is repeated, and the value of a is updated to 4. </br>\n",
        "- The third call to b() follows the same process, leading to a being updated to 6. </br>\n",
        "- Since a used in b() was declared global, any changes made to its value affect the global variable, so the ultimate value of a is 6."
      ]
    },
    {
      "cell_type": "markdown",
      "metadata": {
        "id": "zMyMbnF3KSuP"
      },
      "source": [
        "## Question 2"
      ]
    },
    {
      "cell_type": "markdown",
      "metadata": {
        "id": "kw8YPCz9KSuP"
      },
      "source": [
        "#### Function fileLength(), given to you, takes the name of a file as input and returns the length of the file:\n",
        "\n",
        "fileLength('midterm.py') </br>\n",
        "\n",
        "284 </br>\n",
        "\n",
        "fileLength('idterm.py') </br>\n",
        "\n",
        "Traceback (most recent call last): </br>\n",
        "\n",
        "  File \"<pyshell#34>\", line 1, in module </br>\n",
        "  \n",
        "  fileLength('idterm.py') </br>\n",
        "    \n",
        "  File \"/Users/me/midterm.py\", line 3, in fileLength </br>\n",
        "  \n",
        "  infile = open(filename) </br>\n",
        "  \n",
        "FileNotFoundError: [Errno 2] No such file or directory: </br>\n",
        "\n",
        "'idterm.py' </br>\n",
        "\n",
        "As shown above, if the file cannot be found by the interpreter or if it cannot be read\n",
        "as a text file, an exception will be raised. Modify function fileLength() so that a friendly message is printed instead:\n",
        "  \n",
        "fileLength('midterm.py') </br>\n",
        "\n",
        "358 </br>\n",
        "\n",
        "fileLength('idterm.py') </br>\n",
        "\n",
        "File idterm.py not found. </br>\n",
        "\n"
      ]
    },
    {
      "cell_type": "code",
      "execution_count": 33,
      "metadata": {
        "id": "9sq-PT3oKSuP"
      },
      "outputs": [],
      "source": [
        "def fileLength(filename):\n",
        "    try:\n",
        "        openFile = open(filename, 'r')\n",
        "        file_data = openFile.read()\n",
        "        length_of_file = len(file_data)\n",
        "        openFile.close()\n",
        "        return length_of_file\n",
        "    except:\n",
        "        return \"file \"+ filename + \" not found.\"\n",
        "\n"
      ]
    },
    {
      "cell_type": "code",
      "execution_count": 34,
      "metadata": {
        "colab": {
          "base_uri": "https://localhost:8080/"
        },
        "id": "_ZHmM1f5KSuQ",
        "outputId": "9b5a6dbe-6b78-48d8-ba17-25c4d22c0194"
      },
      "outputs": [
        {
          "output_type": "execute_result",
          "data": {
            "text/plain": [
              "396"
            ]
          },
          "metadata": {},
          "execution_count": 34
        }
      ],
      "source": [
        "fileLength('w3c.html')"
      ]
    },
    {
      "cell_type": "code",
      "execution_count": 35,
      "metadata": {
        "colab": {
          "base_uri": "https://localhost:8080/",
          "height": 35
        },
        "id": "tUt4gYCuKSuQ",
        "outputId": "1a021076-7b5a-4a2f-e30a-a21984a50fd3"
      },
      "outputs": [
        {
          "output_type": "execute_result",
          "data": {
            "text/plain": [
              "'file idterm.py not found.'"
            ],
            "application/vnd.google.colaboratory.intrinsic+json": {
              "type": "string"
            }
          },
          "metadata": {},
          "execution_count": 35
        }
      ],
      "source": [
        "fileLength(\"idterm.py\")"
      ]
    },
    {
      "cell_type": "markdown",
      "metadata": {
        "id": "g72wILUJKSuQ"
      },
      "source": [
        "## Question 3"
      ]
    },
    {
      "cell_type": "markdown",
      "metadata": {
        "id": "9zDWkPCiKSuQ"
      },
      "source": [
        "### Write a class named Marsupial that can be used as shown below:\n",
        "\n",
        "m = Marsupial() </br>\n",
        "\n",
        "m.put_in_pouch('doll') </br>\n",
        "\n",
        "m.put_in_pouch('firetruck') </br>\n",
        "\n",
        "m.put_in_pouch('kitten') </br>\n",
        "\n",
        "m.pouch_contents() </br>\n",
        "\n",
        "['doll', 'firetruck', 'kitten']"
      ]
    },
    {
      "cell_type": "code",
      "execution_count": 36,
      "metadata": {
        "colab": {
          "base_uri": "https://localhost:8080/"
        },
        "id": "_u2AZgFqKSuQ",
        "outputId": "7d15c5a8-1f14-44d3-d0ef-563443a2a846"
      },
      "outputs": [
        {
          "output_type": "stream",
          "name": "stdout",
          "text": [
            "['doll', 'firetruck', 'kitten']\n"
          ]
        }
      ],
      "source": [
        "class Marsupial:\n",
        "\n",
        "    def __init__(self):\n",
        "        self.new_list = []\n",
        "        self.new_list.clear()\n",
        "\n",
        "    def put_in_pouch(self, value):\n",
        "        self.new_list.append(value)\n",
        "\n",
        "    def pouch_contents(self):\n",
        "        return self.new_list\n",
        "\n",
        "m = Marsupial()\n",
        "m.put_in_pouch('doll')\n",
        "m.put_in_pouch('firetruck')\n",
        "m.put_in_pouch('kitten')\n",
        "print(m.pouch_contents())"
      ]
    },
    {
      "cell_type": "markdown",
      "metadata": {
        "id": "tegc71-SKSuQ"
      },
      "source": [
        "Now write a class named Kangaroo as a subclass of Marsupial that inherits all the attributes of Marsupial and also: </br>\n",
        "\n",
        "a. extends the Marsupial __init__ constructor to take, as input, the coordinates x and y of the Kangaroo object, </br>\n",
        "\n",
        "b. supports method jump that takes number values dx and dy as input and moves the kangaroo by dx units along the x-axis and by dy units along the y- axis, and </br>\n",
        "\n",
        "c. overloads the __str__ operator so it behaves as shown below."
      ]
    },
    {
      "cell_type": "code",
      "execution_count": 37,
      "metadata": {
        "colab": {
          "base_uri": "https://localhost:8080/"
        },
        "id": "JcrKiG8DKSuR",
        "outputId": "888dcb7a-cb28-4bec-dcba-66ed25e3ac73"
      },
      "outputs": [
        {
          "output_type": "stream",
          "name": "stdout",
          "text": [
            "I am a Kangaroo located at coordinates (0,0)\n",
            "['doll', 'firetruck', 'kitten']\n",
            "I am a Kangaroo located at coordinates (3,0)\n"
          ]
        }
      ],
      "source": [
        "class Kangaroo(Marsupial):\n",
        "\n",
        "    def __init__(self,x,y):\n",
        "        self.new_list = []\n",
        "        self.new_list.clear ()\n",
        "        self.x = x\n",
        "        self.y = y\n",
        "\n",
        "    def  __str__(self):\n",
        "         return (\"I am a Kangaroo located at coordinates (\"+str(self.x)+\",\"+str(self.y)+\")\")\n",
        "\n",
        "    def jump(self,dx,dy):\n",
        "        self.x = self.x + dx\n",
        "        self.y = self.y + dy\n",
        "\n",
        "\n",
        "k = Kangaroo(0,0)\n",
        "print(k)\n",
        "k.put_in_pouch('doll')\n",
        "k.put_in_pouch('firetruck')\n",
        "k.put_in_pouch('kitten')\n",
        "print(k.pouch_contents())\n",
        "k.jump(1,0)\n",
        "k.jump(1,0)\n",
        "k.jump(1,0)\n",
        "print(k)"
      ]
    },
    {
      "cell_type": "markdown",
      "metadata": {
        "id": "Iwl1ljiOKSuR"
      },
      "source": [
        "## Question 4\n",
        "\n",
        "Write function collatz() that takes a positive integer x as input and prints the Collatz sequence starting at x. A Collatz sequence is obtained by repeatedly applying this rule to the previous number x in the sequence: </br>\n",
        "\n",
        "### x={ 𝑥/2 𝑖𝑓 𝑥 𝑖𝑠 𝑒𝑣𝑒𝑛 , 3𝑥 + 1 𝑖𝑓 𝑥 𝑖𝑠 𝑜𝑑𝑑 </br>\n",
        "\n",
        "Your function should stop when the sequence gets to number 1. Your implementation must be recursive, without any loops. </br>\n"
      ]
    },
    {
      "cell_type": "code",
      "execution_count": 38,
      "metadata": {
        "id": "5Ouwi5P8KSuR"
      },
      "outputs": [],
      "source": [
        "def collatz(input):\n",
        "\n",
        "    new_list = [input]\n",
        "    if input < 1:\n",
        "        return (\"Enter a postive integer\")\n",
        "\n",
        "    if input == 1:\n",
        "        return [1]\n",
        "\n",
        "    elif input % 2 == 0:\n",
        "        new_list.extend(collatz(int(input/2)))\n",
        "    else:\n",
        "        new_list.extend(collatz((input*3)+1))\n",
        "    return new_list\n"
      ]
    },
    {
      "cell_type": "code",
      "execution_count": 39,
      "metadata": {
        "colab": {
          "base_uri": "https://localhost:8080/"
        },
        "id": "950_mWhxKSuR",
        "outputId": "52e45400-41ad-4a53-cb85-7b3ab4690808"
      },
      "outputs": [
        {
          "output_type": "stream",
          "name": "stdout",
          "text": [
            "1\n"
          ]
        }
      ],
      "source": [
        "values = collatz(1)\n",
        "for value in values:\n",
        "    print(value)"
      ]
    },
    {
      "cell_type": "code",
      "execution_count": 40,
      "metadata": {
        "colab": {
          "base_uri": "https://localhost:8080/"
        },
        "id": "6qyK7j0FKSuR",
        "outputId": "76991c06-c78f-484d-84ce-d33093545c88"
      },
      "outputs": [
        {
          "output_type": "stream",
          "name": "stdout",
          "text": [
            "10\n",
            "5\n",
            "16\n",
            "8\n",
            "4\n",
            "2\n",
            "1\n"
          ]
        }
      ],
      "source": [
        "values = collatz(10)\n",
        "for value in values:\n",
        "    print(value)"
      ]
    },
    {
      "cell_type": "markdown",
      "metadata": {
        "id": "2CEf4MdUKSuR"
      },
      "source": [
        "## Question 5\n",
        "\n",
        "Write a recursive method binary() that takes a non-negative integer n and prints the binary representation of integer n."
      ]
    },
    {
      "cell_type": "code",
      "execution_count": 41,
      "metadata": {
        "id": "ibpensx8KSuS"
      },
      "outputs": [],
      "source": [
        "def binary(input):\n",
        "    if input<0:\n",
        "        return (\"Enter postive integer\")\n",
        "\n",
        "    elif input >=1:\n",
        "        return ((10*binary(int(input/2))) + (input%2))\n",
        "\n",
        "    else:\n",
        "        return 0\n",
        ""
      ]
    },
    {
      "cell_type": "code",
      "execution_count": 42,
      "metadata": {
        "colab": {
          "base_uri": "https://localhost:8080/"
        },
        "id": "rja_viAWKSuS",
        "outputId": "eddd6f85-faf5-4797-b073-42a1dcdf20eb"
      },
      "outputs": [
        {
          "output_type": "execute_result",
          "data": {
            "text/plain": [
              "0"
            ]
          },
          "metadata": {},
          "execution_count": 42
        }
      ],
      "source": [
        "binary(0)"
      ]
    },
    {
      "cell_type": "code",
      "execution_count": 43,
      "metadata": {
        "colab": {
          "base_uri": "https://localhost:8080/"
        },
        "id": "ACZP7TjkKSuS",
        "outputId": "29c5894a-3db4-401e-f4b9-359775c85e60"
      },
      "outputs": [
        {
          "output_type": "execute_result",
          "data": {
            "text/plain": [
              "1"
            ]
          },
          "metadata": {},
          "execution_count": 43
        }
      ],
      "source": [
        "binary(1)"
      ]
    },
    {
      "cell_type": "code",
      "execution_count": 44,
      "metadata": {
        "colab": {
          "base_uri": "https://localhost:8080/"
        },
        "id": "8BM5DD6aKSuS",
        "outputId": "9d9e6f16-6293-486f-b8f1-e426c47fbd6d"
      },
      "outputs": [
        {
          "output_type": "execute_result",
          "data": {
            "text/plain": [
              "11"
            ]
          },
          "metadata": {},
          "execution_count": 44
        }
      ],
      "source": [
        "binary(3)"
      ]
    },
    {
      "cell_type": "code",
      "execution_count": 45,
      "metadata": {
        "colab": {
          "base_uri": "https://localhost:8080/"
        },
        "id": "ghROoW2EKSuS",
        "outputId": "b0ebd08d-7e8a-413b-e067-9f4b6aac215b"
      },
      "outputs": [
        {
          "output_type": "execute_result",
          "data": {
            "text/plain": [
              "1001"
            ]
          },
          "metadata": {},
          "execution_count": 45
        }
      ],
      "source": [
        "binary(9)"
      ]
    },
    {
      "cell_type": "markdown",
      "metadata": {
        "id": "-HCZlVgPKSuS"
      },
      "source": [
        "## Question 6\n",
        "\n",
        "Implement a class named HeadingParser that can be used to parse an HTML document, and retrieve and print all the headings in the document. You should implement your class as a subclass of HTMLParser, defined in Standard Library module html.parser. When fed a string containing HTML code, your class should print the headings, one per line and in the order in which they appear in the document. Each heading should be indented as follows: an h1 heading should have indentation 0, and h2 heading should have indentation 1, etc. Test your implementation using w3c.html."
      ]
    },
    {
      "cell_type": "code",
      "execution_count": 46,
      "metadata": {
        "colab": {
          "base_uri": "https://localhost:8080/"
        },
        "id": "veAaM9N0KSuS",
        "outputId": "5fb5d57d-9b5b-4082-89fe-44c1f6c1e665"
      },
      "outputs": [
        {
          "output_type": "stream",
          "name": "stdout",
          "text": [
            "W3C Mission\n",
            "\tPrinciples\n"
          ]
        }
      ],
      "source": [
        "from html.parser import HTMLParser\n",
        "\n",
        "class HeadingParser(HTMLParser):\n",
        "    flag = False\n",
        "    indetation_value = 0\n",
        "\n",
        "    def handle_starttag(self, tag, attrs):\n",
        "        if tag == \"h1\":\n",
        "            self.flag = True\n",
        "            self.indetation_value = 0\n",
        "\n",
        "        elif tag == \"h2\":\n",
        "            self.flag = True\n",
        "            self.indetation_value = 1\n",
        "        elif tag == \"h3\":\n",
        "            self.flag = True\n",
        "            self.indetation_value = 2\n",
        "        elif tag == \"h4\":\n",
        "            self.flag = True\n",
        "            self.indetation_value = 3\n",
        "        elif tag == \"h5\":\n",
        "            self.flag = True\n",
        "            self.indetation_value = 4\n",
        "        elif tag == \"h6\":\n",
        "            self.flag = True\n",
        "            self.indetation_value = 5\n",
        "\n",
        "\n",
        "    def handle_data(self, data):\n",
        "        if self.flag:\n",
        "            print (self.indetation_value*\"\\t\"+data)\n",
        "\n",
        "    def handle_endtag(self, tag):\n",
        "        if tag == \"h1\":\n",
        "            self.flag = False\n",
        "        elif tag == \"h2\":\n",
        "            self.flag = False\n",
        "        elif tag == \"h3\":\n",
        "            self.flag = False\n",
        "        elif tag == \"h4\":\n",
        "            self.flag = False\n",
        "        elif tag == \"h5\":\n",
        "            self.flag = False\n",
        "        elif tag == \"h6\":\n",
        "            self.flag = False\n",
        "\n",
        "infile = open('w3c.html')\n",
        "content = infile.read()\n",
        "infile.close()\n",
        "hp = HeadingParser()\n",
        "hp.feed(content)"
      ]
    },
    {
      "cell_type": "markdown",
      "metadata": {
        "id": "1G8KGt4hKSuS"
      },
      "source": [
        "## Question 7\n",
        "\n",
        "Implement recursive function webdir() that takes as input: a URL (as a string) and non-negative integers depth and indent. Your function should visit every web page reachable from the starting URL web page in each web page's URL. As shown below, indentation, specified by indent, should depth clicks or less, and print be used to indicate the depth of a URL."
      ]
    },
    {
      "cell_type": "code",
      "execution_count": 47,
      "metadata": {
        "id": "qHRXlGASKSuT"
      },
      "outputs": [],
      "source": [
        "from bs4 import BeautifulSoup\n",
        "import requests\n",
        "\n",
        "urls=[\"one.html\"]\n",
        "\n",
        "site = \"http://reed.cs.depaul.edu/lperkovic/\"\n",
        "url = 'one.html'\n",
        "x = 0\n",
        "def webdir(url,depth):\n",
        "        r = requests.get (site+url)\n",
        "\n",
        "        s = BeautifulSoup (r.text, \"html.parser\")\n",
        "        for i in  s.find_all (\"a\"):\n",
        "            global x\n",
        "            if x < depth:\n",
        "                x = x+1\n",
        "                url = i.attrs['href']\n",
        "                urls.append(url)\n",
        "                webdir(url,depth)\n",
        "            x = 0\n",
        "webdir(url,2)"
      ]
    },
    {
      "cell_type": "markdown",
      "metadata": {
        "id": "T8_rq42WKSuT"
      },
      "source": [
        "## Question 8\n",
        "\n",
        "Write SQL queries on the below database table that return:\n",
        "\n",
        "\n",
        "\n"
      ]
    },
    {
      "cell_type": "code",
      "execution_count": 49,
      "metadata": {
        "colab": {
          "base_uri": "https://localhost:8080/",
          "height": 418
        },
        "id": "K9HKSFpRKSuT",
        "outputId": "d9d7a01e-a3a8-4aa3-d71a-256e35dd010e"
      },
      "outputs": [
        {
          "output_type": "error",
          "ename": "DatabaseError",
          "evalue": "2003 (HY000): Can't connect to MySQL server on 'localhost:3306' (99)",
          "traceback": [
            "\u001b[0;31m---------------------------------------------------------------------------\u001b[0m",
            "\u001b[0;31mMySQLInterfaceError\u001b[0m                       Traceback (most recent call last)",
            "\u001b[0;32m/usr/local/lib/python3.10/dist-packages/mysql/connector/connection_cext.py\u001b[0m in \u001b[0;36m_open_connection\u001b[0;34m(self)\u001b[0m\n\u001b[1;32m    334\u001b[0m         \u001b[0;32mtry\u001b[0m\u001b[0;34m:\u001b[0m\u001b[0;34m\u001b[0m\u001b[0;34m\u001b[0m\u001b[0m\n\u001b[0;32m--> 335\u001b[0;31m             \u001b[0mself\u001b[0m\u001b[0;34m.\u001b[0m\u001b[0m_cmysql\u001b[0m\u001b[0;34m.\u001b[0m\u001b[0mconnect\u001b[0m\u001b[0;34m(\u001b[0m\u001b[0;34m**\u001b[0m\u001b[0mcnx_kwargs\u001b[0m\u001b[0;34m)\u001b[0m\u001b[0;34m\u001b[0m\u001b[0;34m\u001b[0m\u001b[0m\n\u001b[0m\u001b[1;32m    336\u001b[0m             \u001b[0mself\u001b[0m\u001b[0;34m.\u001b[0m\u001b[0m_cmysql\u001b[0m\u001b[0;34m.\u001b[0m\u001b[0mconverter_str_fallback\u001b[0m \u001b[0;34m=\u001b[0m \u001b[0mself\u001b[0m\u001b[0;34m.\u001b[0m\u001b[0m_converter_str_fallback\u001b[0m\u001b[0;34m\u001b[0m\u001b[0;34m\u001b[0m\u001b[0m\n",
            "\u001b[0;31mMySQLInterfaceError\u001b[0m: Can't connect to MySQL server on 'localhost:3306' (99)",
            "\nThe above exception was the direct cause of the following exception:\n",
            "\u001b[0;31mDatabaseError\u001b[0m                             Traceback (most recent call last)",
            "\u001b[0;32m<ipython-input-49-460ec0ec676c>\u001b[0m in \u001b[0;36m<cell line: 3>\u001b[0;34m()\u001b[0m\n\u001b[1;32m      1\u001b[0m \u001b[0;32mimport\u001b[0m \u001b[0mmysql\u001b[0m\u001b[0;34m.\u001b[0m\u001b[0mconnector\u001b[0m\u001b[0;34m\u001b[0m\u001b[0;34m\u001b[0m\u001b[0m\n\u001b[1;32m      2\u001b[0m \u001b[0;34m\u001b[0m\u001b[0m\n\u001b[0;32m----> 3\u001b[0;31m mydatabase = mysql.connector.connect(\n\u001b[0m\u001b[1;32m      4\u001b[0m   \u001b[0mhost\u001b[0m\u001b[0;34m=\u001b[0m\u001b[0;34m\"localhost\"\u001b[0m\u001b[0;34m,\u001b[0m\u001b[0;34m\u001b[0m\u001b[0;34m\u001b[0m\u001b[0m\n\u001b[1;32m      5\u001b[0m   \u001b[0muser\u001b[0m\u001b[0;34m=\u001b[0m\u001b[0;34m\"root\"\u001b[0m\u001b[0;34m,\u001b[0m\u001b[0;34m\u001b[0m\u001b[0;34m\u001b[0m\u001b[0m\n",
            "\u001b[0;32m/usr/local/lib/python3.10/dist-packages/mysql/connector/pooling.py\u001b[0m in \u001b[0;36mconnect\u001b[0;34m(*args, **kwargs)\u001b[0m\n\u001b[1;32m    320\u001b[0m \u001b[0;34m\u001b[0m\u001b[0m\n\u001b[1;32m    321\u001b[0m     \u001b[0;32mif\u001b[0m \u001b[0mCMySQLConnection\u001b[0m \u001b[0;32mand\u001b[0m \u001b[0;32mnot\u001b[0m \u001b[0muse_pure\u001b[0m\u001b[0;34m:\u001b[0m\u001b[0;34m\u001b[0m\u001b[0;34m\u001b[0m\u001b[0m\n\u001b[0;32m--> 322\u001b[0;31m         \u001b[0;32mreturn\u001b[0m \u001b[0mCMySQLConnection\u001b[0m\u001b[0;34m(\u001b[0m\u001b[0;34m*\u001b[0m\u001b[0margs\u001b[0m\u001b[0;34m,\u001b[0m \u001b[0;34m**\u001b[0m\u001b[0mkwargs\u001b[0m\u001b[0;34m)\u001b[0m\u001b[0;34m\u001b[0m\u001b[0;34m\u001b[0m\u001b[0m\n\u001b[0m\u001b[1;32m    323\u001b[0m     \u001b[0;32mreturn\u001b[0m \u001b[0mMySQLConnection\u001b[0m\u001b[0;34m(\u001b[0m\u001b[0;34m*\u001b[0m\u001b[0margs\u001b[0m\u001b[0;34m,\u001b[0m \u001b[0;34m**\u001b[0m\u001b[0mkwargs\u001b[0m\u001b[0;34m)\u001b[0m\u001b[0;34m\u001b[0m\u001b[0;34m\u001b[0m\u001b[0m\n\u001b[1;32m    324\u001b[0m \u001b[0;34m\u001b[0m\u001b[0m\n",
            "\u001b[0;32m/usr/local/lib/python3.10/dist-packages/mysql/connector/connection_cext.py\u001b[0m in \u001b[0;36m__init__\u001b[0;34m(self, **kwargs)\u001b[0m\n\u001b[1;32m    149\u001b[0m         \u001b[0;32mif\u001b[0m \u001b[0mkwargs\u001b[0m\u001b[0;34m:\u001b[0m\u001b[0;34m\u001b[0m\u001b[0;34m\u001b[0m\u001b[0m\n\u001b[1;32m    150\u001b[0m             \u001b[0;32mtry\u001b[0m\u001b[0;34m:\u001b[0m\u001b[0;34m\u001b[0m\u001b[0;34m\u001b[0m\u001b[0m\n\u001b[0;32m--> 151\u001b[0;31m                 \u001b[0mself\u001b[0m\u001b[0;34m.\u001b[0m\u001b[0mconnect\u001b[0m\u001b[0;34m(\u001b[0m\u001b[0;34m**\u001b[0m\u001b[0mkwargs\u001b[0m\u001b[0;34m)\u001b[0m\u001b[0;34m\u001b[0m\u001b[0;34m\u001b[0m\u001b[0m\n\u001b[0m\u001b[1;32m    152\u001b[0m             \u001b[0;32mexcept\u001b[0m \u001b[0mException\u001b[0m\u001b[0;34m:\u001b[0m\u001b[0;34m\u001b[0m\u001b[0;34m\u001b[0m\u001b[0m\n\u001b[1;32m    153\u001b[0m                 \u001b[0mself\u001b[0m\u001b[0;34m.\u001b[0m\u001b[0mclose\u001b[0m\u001b[0;34m(\u001b[0m\u001b[0;34m)\u001b[0m\u001b[0;34m\u001b[0m\u001b[0;34m\u001b[0m\u001b[0m\n",
            "\u001b[0;32m/usr/local/lib/python3.10/dist-packages/mysql/connector/abstracts.py\u001b[0m in \u001b[0;36mconnect\u001b[0;34m(self, **kwargs)\u001b[0m\n\u001b[1;32m   1424\u001b[0m \u001b[0;34m\u001b[0m\u001b[0m\n\u001b[1;32m   1425\u001b[0m         \u001b[0mself\u001b[0m\u001b[0;34m.\u001b[0m\u001b[0mdisconnect\u001b[0m\u001b[0;34m(\u001b[0m\u001b[0;34m)\u001b[0m\u001b[0;34m\u001b[0m\u001b[0;34m\u001b[0m\u001b[0m\n\u001b[0;32m-> 1426\u001b[0;31m         \u001b[0mself\u001b[0m\u001b[0;34m.\u001b[0m\u001b[0m_open_connection\u001b[0m\u001b[0;34m(\u001b[0m\u001b[0;34m)\u001b[0m\u001b[0;34m\u001b[0m\u001b[0;34m\u001b[0m\u001b[0m\n\u001b[0m\u001b[1;32m   1427\u001b[0m \u001b[0;34m\u001b[0m\u001b[0m\n\u001b[1;32m   1428\u001b[0m         charset, collation = (\n",
            "\u001b[0;32m/usr/local/lib/python3.10/dist-packages/mysql/connector/connection_cext.py\u001b[0m in \u001b[0;36m_open_connection\u001b[0;34m(self)\u001b[0m\n\u001b[1;32m    338\u001b[0m                 \u001b[0mself\u001b[0m\u001b[0;34m.\u001b[0m\u001b[0mconverter\u001b[0m\u001b[0;34m.\u001b[0m\u001b[0mstr_fallback\u001b[0m \u001b[0;34m=\u001b[0m \u001b[0mself\u001b[0m\u001b[0;34m.\u001b[0m\u001b[0m_converter_str_fallback\u001b[0m\u001b[0;34m\u001b[0m\u001b[0;34m\u001b[0m\u001b[0m\n\u001b[1;32m    339\u001b[0m         \u001b[0;32mexcept\u001b[0m \u001b[0mMySQLInterfaceError\u001b[0m \u001b[0;32mas\u001b[0m \u001b[0merr\u001b[0m\u001b[0;34m:\u001b[0m\u001b[0;34m\u001b[0m\u001b[0;34m\u001b[0m\u001b[0m\n\u001b[0;32m--> 340\u001b[0;31m             raise get_mysql_exception(\n\u001b[0m\u001b[1;32m    341\u001b[0m                 \u001b[0mmsg\u001b[0m\u001b[0;34m=\u001b[0m\u001b[0merr\u001b[0m\u001b[0;34m.\u001b[0m\u001b[0mmsg\u001b[0m\u001b[0;34m,\u001b[0m \u001b[0merrno\u001b[0m\u001b[0;34m=\u001b[0m\u001b[0merr\u001b[0m\u001b[0;34m.\u001b[0m\u001b[0merrno\u001b[0m\u001b[0;34m,\u001b[0m \u001b[0msqlstate\u001b[0m\u001b[0;34m=\u001b[0m\u001b[0merr\u001b[0m\u001b[0;34m.\u001b[0m\u001b[0msqlstate\u001b[0m\u001b[0;34m\u001b[0m\u001b[0;34m\u001b[0m\u001b[0m\n\u001b[1;32m    342\u001b[0m             ) from err\n",
            "\u001b[0;31mDatabaseError\u001b[0m: 2003 (HY000): Can't connect to MySQL server on 'localhost:3306' (99)"
          ]
        }
      ],
      "source": [
        "import mysql.connector\n",
        "\n",
        "mydatabase = mysql.connector.connect(\n",
        "  host=\"localhost\",\n",
        "  user=\"root\",\n",
        "  password=\"root\"\n",
        ")\n",
        "\n",
        "mycursor = mydatabase.cursor()\n",
        "\n",
        "mycursor.execute(\"CREATE DATABASE problemset2\")"
      ]
    },
    {
      "cell_type": "markdown",
      "metadata": {
        "id": "vcjoGUKZKSuT"
      },
      "source": [
        "### a) All the temperature data. </br>"
      ]
    },
    {
      "cell_type": "markdown",
      "metadata": {
        "id": "t8kpSYg4KSuT"
      },
      "source": [
        "### b) All the cities, but without repetition. </br>"
      ]
    },
    {
      "cell_type": "markdown",
      "metadata": {
        "id": "Q9F9-madKSuT"
      },
      "source": [
        "### c) All the records for India. </br>"
      ]
    },
    {
      "cell_type": "markdown",
      "metadata": {
        "id": "yfqSvOZhKSuU"
      },
      "source": [
        "### d) All the Fall records. </br>\n"
      ]
    },
    {
      "cell_type": "markdown",
      "metadata": {
        "id": "VrC4mGOrKSub"
      },
      "source": [
        "\n",
        "### e) The city, country, and season for which the average rainfall is between 200 and 400 millimeters. </br>\n"
      ]
    },
    {
      "cell_type": "markdown",
      "metadata": {
        "id": "oZCNoz1YKSub"
      },
      "source": [
        "### f) The city and country for which the average Fall temperature is above 20 degrees, in increasing temperature order. </br>\n"
      ]
    },
    {
      "cell_type": "markdown",
      "metadata": {
        "id": "VS-1HjYGKSub"
      },
      "source": [
        "\n",
        "### g) The total annual rainfall for Cairo. </br>\n"
      ]
    },
    {
      "cell_type": "markdown",
      "metadata": {
        "id": "vKcFFt6nKSub"
      },
      "source": [
        "\n",
        "### h) The total rainfall for each season. </br>"
      ]
    },
    {
      "cell_type": "markdown",
      "metadata": {
        "id": "353uO7V3KSuc"
      },
      "source": [
        "## Question 9\n",
        "\n",
        "Suppose list words is defined as follows: </br>\n",
        "\n",
        "words = ['The', 'quick', 'brown', 'fox', 'jumps', 'over', 'the', 'lazy', 'dog'] </br>\n",
        "\n",
        "Write list comprehension expressions that use list words and generate the following lists: </br>\n",
        "\n",
        "a) ['THE', 'QUICK', 'BROWN', 'FOX', 'JUMPS', 'OVER', 'THE', 'LAZY', 'DOG'] </br>\n",
        "\n",
        "b) ['the', 'quick', 'brown', 'fox', 'jumps', 'over', 'the', 'lazy', 'dog'] </br>\n",
        "\n",
        "c)[3, 5, 5, 3, 5, 4, 3, 4, 3](the list of lengths of words in list words). </br>\n",
        "\n",
        "d) [['THE', 'the', 3], ['QUICK', 'quick', 5], ['BROWN', 'brown', 5], ['FOX', 'fox', 3], ['JUMPS', 'jumps', 5], ['OVER', 'over', 4], ['THE', 'the', 3], ['LAZY', 'lazy', 4], ['DOG', 'dog', 3]] (the list containing a list for every word of list words, where each list contains the word in uppercase and lowercase and the length of the word.) </br>\n",
        "\n",
        "e) ['The', 'quick', 'brown', 'fox', 'jumps', 'over', 'the', 'lazy', 'dog'] (the list of words in list words containing 4 or more characters.)"
      ]
    },
    {
      "cell_type": "code",
      "execution_count": 50,
      "metadata": {
        "colab": {
          "base_uri": "https://localhost:8080/"
        },
        "id": "UQxFpVrWKSuc",
        "outputId": "f8cbe6fc-0dea-478b-d59d-6dbb4e2d63b4"
      },
      "outputs": [
        {
          "output_type": "stream",
          "name": "stdout",
          "text": [
            "['THE', 'QUICK', 'BROWN', 'FOX', 'JUMPS', 'OVER', 'THE', 'LAZY', 'DOG']\n",
            "['the', 'quick', 'brown', 'fox', 'jumps', 'over', 'the', 'lazy', 'dog']\n",
            "[3, 5, 5, 3, 5, 4, 3, 4, 3]\n",
            "[['THE', 'the', 3], ['QUICK', 'quick', 5], ['BROWN', 'brown', 5], ['FOX', 'fox', 3], ['JUMPS', 'jumps', 5], ['OVER', 'over', 4], ['THE', 'the', 3], ['LAZY', 'lazy', 4], ['DOG', 'dog', 3]]\n",
            "['quick', 'brown', 'jumps', 'over', 'lazy']\n"
          ]
        }
      ],
      "source": [
        "words = ['The', 'quick', 'brown', 'fox', 'jumps', 'over', 'the', 'lazy', 'dog']\n",
        "\n",
        "def upper(words):\n",
        "    upper_case_list = []\n",
        "    for word in words:\n",
        "        upper_case_list.append(word.upper())\n",
        "    return upper_case_list\n",
        "\n",
        "def lower(words):\n",
        "    lower_case_list = []\n",
        "    for word in words:\n",
        "        lower_case_list.append(word.lower())\n",
        "    return lower_case_list\n",
        "\n",
        "def length_of_words(words):\n",
        "    word_length_list = []\n",
        "    for word in words:\n",
        "        word_length_list.append(len(word))\n",
        "    return word_length_list\n",
        "\n",
        "def upper_lower_length_of_words(words):\n",
        "    final_list = []\n",
        "    upper_lower_length_of_words_list = []\n",
        "    for word in words:\n",
        "        upper_lower_length_of_words_list.clear()\n",
        "        upper_lower_length_of_words_list.append(word.upper())\n",
        "        upper_lower_length_of_words_list.append (word.lower())\n",
        "        upper_lower_length_of_words_list.append (len(word))\n",
        "        new_list = upper_lower_length_of_words_list.copy()\n",
        "        final_list.append(new_list)\n",
        "    return final_list\n",
        "\n",
        "def check_word_length(words):\n",
        "    word_length = []\n",
        "    for word in words:\n",
        "        if len(word) > 3:\n",
        "            word_length.append(word)\n",
        "    return word_length\n",
        "\n",
        "print(upper(words))\n",
        "print(lower(words))\n",
        "print(length_of_words(words))\n",
        "print(upper_lower_length_of_words(words))\n",
        "print(check_word_length(words))"
      ]
    },
    {
      "cell_type": "code",
      "source": [],
      "metadata": {
        "id": "2qoWW7MhWF0r"
      },
      "execution_count": null,
      "outputs": []
    }
  ],
  "metadata": {
    "kernelspec": {
      "display_name": "Python 3",
      "language": "python",
      "name": "python3"
    },
    "language_info": {
      "codemirror_mode": {
        "name": "ipython",
        "version": 3
      },
      "file_extension": ".py",
      "mimetype": "text/x-python",
      "name": "python",
      "nbconvert_exporter": "python",
      "pygments_lexer": "ipython3",
      "version": "3.8.5"
    },
    "colab": {
      "provenance": []
    }
  },
  "nbformat": 4,
  "nbformat_minor": 0
}